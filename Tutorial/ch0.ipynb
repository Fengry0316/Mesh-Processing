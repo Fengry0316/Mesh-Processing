{
 "cells": [
  {
   "cell_type": "code",
   "execution_count": 1,
   "metadata": {},
   "outputs": [],
   "source": [
    "import igl\n",
    "import scipy as sp \n",
    "import numpy as np \n",
    "from meshplot import plot,subplot,interact\n",
    "\n",
    "import os\n",
    "root_folder = os.getcwd()"
   ]
  },
  {
   "attachments": {},
   "cell_type": "markdown",
   "metadata": {},
   "source": [
    "\n",
    "**Mesh Representation**"
   ]
  },
  {
   "cell_type": "code",
   "execution_count": 2,
   "metadata": {},
   "outputs": [
    {
     "data": {
      "application/vnd.jupyter.widget-view+json": {
       "model_id": "4a506ec8f12a4eb8887de56f58af1e09",
       "version_major": 2,
       "version_minor": 0
      },
      "text/plain": [
       "Renderer(camera=PerspectiveCamera(children=(DirectionalLight(color='white', intensity=0.6, position=(1.0, 0.5,…"
      ]
     },
     "metadata": {},
     "output_type": "display_data"
    },
    {
     "data": {
      "text/plain": [
       "<meshplot.Viewer.Viewer at 0x28379a1df10>"
      ]
     },
     "execution_count": 2,
     "metadata": {},
     "output_type": "execute_result"
    }
   ],
   "source": [
    "V = np.array([\n",
    "    [0., 0, 0],\n",
    "    [1, 0, 0],\n",
    "    [1, 1, 1],\n",
    "    [2, 1, 0]\n",
    "])\n",
    "\n",
    "F = np.array([\n",
    "    [0, 1, 2],\n",
    "    [1, 3, 2]\n",
    "])\n",
    "\n",
    "plot(V, F)"
   ]
  },
  {
   "cell_type": "code",
   "execution_count": 7,
   "metadata": {},
   "outputs": [
    {
     "name": "stdout",
     "output_type": "stream",
     "text": [
      "Vertices: 3485\n",
      "Face 6966\n"
     ]
    }
   ],
   "source": [
    "data_folder = \"G:\\Code\\Mesh-Processing\\libigl-tutorial-data\"\n",
    "# Load a mesh in off format\n",
    "v,f = igl.read_triangle_mesh(os.path.join(data_folder,\"bunny.off\"))\n",
    "\n",
    "print(\"Vertices:\",len(v))\n",
    "print(\"Face\",len(f))\n",
    "\n"
   ]
  },
  {
   "cell_type": "code",
   "execution_count": 10,
   "metadata": {},
   "outputs": [],
   "source": [
    "# Save the mesh in obj format\n",
    "#ret = igl.write_triangle_mesh(os.path.join(data_folder,'bunny_out.obj'),v,f)\n",
    "ret = igl.write_triangle_mesh(os.path.join(root_folder, \"data\", \"bunny_out.obj\"), v, f)\n"
   ]
  },
  {
   "cell_type": "code",
   "execution_count": null,
   "metadata": {},
   "outputs": [],
   "source": []
  },
  {
   "cell_type": "code",
   "execution_count": null,
   "metadata": {},
   "outputs": [],
   "source": []
  }
 ],
 "metadata": {
  "kernelspec": {
   "display_name": "mesh_env",
   "language": "python",
   "name": "python3"
  },
  "language_info": {
   "codemirror_mode": {
    "name": "ipython",
    "version": 3
   },
   "file_extension": ".py",
   "mimetype": "text/x-python",
   "name": "python",
   "nbconvert_exporter": "python",
   "pygments_lexer": "ipython3",
   "version": "3.8.18"
  },
  "orig_nbformat": 4
 },
 "nbformat": 4,
 "nbformat_minor": 2
}
